{
 "cells": [
  {
   "cell_type": "code",
   "execution_count": 1,
   "id": "9b7445d3-2ad0-4a13-a38d-4ce3a34f61cb",
   "metadata": {},
   "outputs": [],
   "source": [
    "#import libraries\n",
    "#!pip install kaggle"
   ]
  },
  {
   "cell_type": "code",
   "execution_count": 1,
   "id": "1de2ae29-0643-462c-9b26-a3b7c830692a",
   "metadata": {},
   "outputs": [],
   "source": [
    "import kaggle"
   ]
  },
  {
   "cell_type": "code",
   "execution_count": 28,
   "id": "0d0f06c7-00d0-466f-a180-f66db72b5623",
   "metadata": {},
   "outputs": [],
   "source": [
    "#download dataset using kaggle api\n",
    "#!kaggle datasets download user / retail-orders -f orders.csv"
   ]
  },
  {
   "cell_type": "code",
   "execution_count": 3,
   "id": "b7828c81-bd45-4cac-98f8-cff57272e6c4",
   "metadata": {},
   "outputs": [],
   "source": [
    "#extract file from zip file\n",
    "#import zipfile\n",
    "#zip_ref = zipfile.ZipFile('orders.csv.zip')\n",
    "#zip_ref.extractall() #extract file to dir\n",
    "#zip_ref.close() # close file"
   ]
  },
  {
   "cell_type": "code",
   "execution_count": 1,
   "id": "a1a0383c-8e2d-491b-80b1-6be86b3b5a56",
   "metadata": {},
   "outputs": [],
   "source": [
    "#read data form the file and handle null values\n",
    "#!pip install pandas\n",
    "import pandas as pd\n",
    "#df = pd.read_csv('orders.csv')#, na_values=['Not Available', 'unknown'])\n",
    "#df.head(6)\n",
    "#df['Ship Mode'].unique()"
   ]
  },
  {
   "cell_type": "code",
   "execution_count": 2,
   "id": "ca6c0ce4-29ee-45a3-97f0-6aa33de03a9d",
   "metadata": {},
   "outputs": [],
   "source": [
    "# rename columns names ..make them lower case and replace\n",
    "#df.rename(columns={'Order Id':'order_id', 'City':'city'})\n",
    "#or\n",
    "#df.columns=df.columns.str.lower()\n",
    "#df.columns=df.columns.str.replace(' ','_')\n",
    "#df.head(5)"
   ]
  },
  {
   "cell_type": "code",
   "execution_count": 3,
   "id": "52055c63-56b9-41c5-838e-b69bcf908939",
   "metadata": {},
   "outputs": [],
   "source": [
    "#derive new columns discount, sall price and profit\n",
    "#df['discount']=df['list_price']*df['discount_percent']*.01\n",
    "#df['sale_price']= df['list_price']-df['discount']\n",
    "#df['profit']= df['sale_price']-df['cost_price']\n",
    "#df.head(6)"
   ]
  },
  {
   "cell_type": "code",
   "execution_count": 4,
   "id": "5f8c1df2-23a5-4f2c-890a-e097222a0fb1",
   "metadata": {},
   "outputs": [],
   "source": [
    "#convert order date from object data type to datetime\n",
    "#df.dtypes\n",
    "#import pandas as pd\n",
    "#df['order_date']=pd.to_datetime(df['order_date'],format=\"%Y-%m-%d\")"
   ]
  },
  {
   "cell_type": "code",
   "execution_count": 5,
   "id": "f739dee7-ed61-4a2a-90c0-96c91de1cc1f",
   "metadata": {},
   "outputs": [],
   "source": [
    "#drop cost price list price and discount percent columns\n",
    "#df.drop(columns=['list_price', 'cost_price', 'discount_percent'],inplace=True)\n",
    "#df.head(5)"
   ]
  },
  {
   "cell_type": "code",
   "execution_count": 7,
   "id": "5b5d618d-0360-4b3e-8aa1-3e9237aa14da",
   "metadata": {},
   "outputs": [],
   "source": [
    "#Load the data into sql server using replace option\n",
    "#!pip install sqlalchemy\n",
    "#!pip install pyodbc\n",
    "#import sqlalchemy as sal\n",
    "#import pyodbc\n",
    "#engine = sal.create_engine('mssql+pyodbc://DESKTOP-2CA9QD4\\\\SQLEXPRESS/master?driver=ODBC+Driver+17+for+SQL+Server&Trusted_Connection=yes')\n",
    "#conn=engine.connect()"
   ]
  },
  {
   "cell_type": "code",
   "execution_count": 8,
   "id": "05838bf1-1454-4681-b602-1a107854e5cd",
   "metadata": {},
   "outputs": [
    {
     "data": {
      "text/plain": [
       "38"
      ]
     },
     "execution_count": 8,
     "metadata": {},
     "output_type": "execute_result"
    }
   ],
   "source": [
    "#load the data into sql server using append option\n",
    "#df.to_sql('df_orders', con=conn , index=False, if_exists = 'replace')\n",
    "#or use it after created headers in SQL server prior for proper datatype - length\n",
    "#df.to_sql('df_orders', con=conn , index=False, if_exists = 'append')\n"
   ]
  },
  {
   "cell_type": "code",
   "execution_count": 27,
   "id": "6a2e9371-52b7-4d54-bcf0-de33e27c9f98",
   "metadata": {},
   "outputs": [],
   "source": [
    "#df.dtypes"
   ]
  },
  {
   "cell_type": "code",
   "execution_count": null,
   "id": "872ca7ed-ae79-457a-9a18-5e5c941c52dd",
   "metadata": {},
   "outputs": [],
   "source": [
    "#Now data forwarded to SQL server."
   ]
  }
 ],
 "metadata": {
  "kernelspec": {
   "display_name": "Python 3 (ipykernel)",
   "language": "python",
   "name": "python3"
  },
  "language_info": {
   "codemirror_mode": {
    "name": "ipython",
    "version": 3
   },
   "file_extension": ".py",
   "mimetype": "text/x-python",
   "name": "python",
   "nbconvert_exporter": "python",
   "pygments_lexer": "ipython3",
   "version": "3.13.3"
  }
 },
 "nbformat": 4,
 "nbformat_minor": 5
}
