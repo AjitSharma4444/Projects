{
 "cells": [
  {
   "cell_type": "code",
   "execution_count": 1,
   "id": "188dd491-5761-492c-89fe-139f83969bff",
   "metadata": {},
   "outputs": [],
   "source": [
    "import matplotlib as plt"
   ]
  },
  {
   "cell_type": "code",
   "execution_count": 2,
   "id": "8eec9563-691f-4fca-9c4c-b976ba330eb4",
   "metadata": {},
   "outputs": [],
   "source": [
    "import seaborn as sns"
   ]
  },
  {
   "cell_type": "code",
   "execution_count": 3,
   "id": "2a0ecaca-8d79-4d1e-a393-dc64460b4d52",
   "metadata": {},
   "outputs": [],
   "source": [
    "import pandas as pd"
   ]
  },
  {
   "cell_type": "code",
   "execution_count": 4,
   "id": "338a52f2-5c69-477c-90e8-a3a074004ceb",
   "metadata": {},
   "outputs": [],
   "source": [
    "#!pip install mysql-connector-python"
   ]
  },
  {
   "cell_type": "code",
   "execution_count": 5,
   "id": "384b43f0-da3b-49c9-a022-99f8af58df46",
   "metadata": {},
   "outputs": [],
   "source": [
    "#import os"
   ]
  },
  {
   "cell_type": "code",
   "execution_count": 6,
   "id": "6672139b-ec65-4652-a98f-cee7535cc3e1",
   "metadata": {},
   "outputs": [],
   "source": [
    "import mysql.connector"
   ]
  },
  {
   "cell_type": "code",
   "execution_count": 7,
   "id": "1fdc4f33-cfc9-45b7-aa4b-5f9693d8dcd1",
   "metadata": {},
   "outputs": [],
   "source": [
    "import numpy as np"
   ]
  },
  {
   "cell_type": "code",
   "execution_count": 8,
   "id": "f09d568b-c774-4052-b820-f4a80c0a30a9",
   "metadata": {
    "scrolled": true
   },
   "outputs": [],
   "source": [
    "# List of CSV files and their corresponding table names\n",
    "#csv_files = [('Categories.csv', 'Categories'),\n",
    "#('Customers.csv', 'Customers'),\n",
    "#('Geolocation.csv', 'Geolocation'),\n",
    "#('Order Items.csv', 'Order_Items'),\n",
    "#('Order Payments.csv', 'Order_Payments'),\n",
    "#('Orders.csv', 'Orders'),\n",
    "#('Products.csv', 'Products'),\n",
    "#('Reviews.csv', 'Reviews'),\n",
    "#('Sellers.csv', 'Sellers') ]\n",
    "\n",
    "#connect to mysql\n",
    "#conn = mysql.connector.connect(\n",
    "    #host='localhost',\n",
    "   # user='root',\n",
    "  # password='Mysql@4444',\n",
    " #  database='sql_python_ecommerce_project'  # or your schema name\n",
    "#)\n",
    "\n",
    "#cursor = conn.cursor()\n",
    "#Folder containing the CSV files\n",
    "#folder_path = 'C:/Users/Personal PC/Desktop/New job role expected from Ajit Sharma/SQL Practice/Sept_25_New_Project/SQL-Python-Ecommerce-Project-main_from author/Dataset'\n",
    "\n",
    "#def get_sql_type(dtype):\n",
    "    #if pd.api.types.is_integer_dtype(dtype):\n",
    "     #   return 'INT'\n",
    "    #elif pd.api.types.is_float_dtype(dtype):\n",
    "     #   return 'FLOAT'\n",
    "    #elif pd.api.types.is_bool_dtype(dtype):\n",
    "     #   return 'BOOLEAN'\n",
    "    #elif pd.api.types.is_datetime64_any_dtype(dtype):\n",
    "   #     return 'DATETIME'\n",
    "  #  else:\n",
    " #       return 'TEXT'\n",
    "\n",
    "#for csv_file, table_name in csv_files:\n",
    "    #file_path = os.path.join(folder_path, csv_file)\n",
    "    \n",
    "    # Read the CSV file into a pandas DataFrame\n",
    "    #df = pd.read_csv(file_path)\n",
    "    \n",
    "    # Replace NaN with None to handle SQL NULL\n",
    "    #df = df.where(pd.notnull(df), None)\n",
    "    \n",
    "    # Debugging: Check for NaN values\n",
    "    #print(f\"Processing {csv_file}\")\n",
    "    #print(f\"NaN values before replacement:\\n{df.isnull().sum()}\\n\")\n",
    "\n",
    "    # Clean column names\n",
    "    #df.columns = [col.replace(' ', '_').replace('-', '_').replace('.', '_') for col in df.columns]\n",
    "\n",
    "    # Generate the CREATE TABLE statement with appropriate data types\n",
    "    #columns = ', '.join([f'`{col}` {get_sql_type(df[col].dtype)}' for col in df.columns])\n",
    "    #create_table_query = f'CREATE TABLE IF NOT EXISTS `{table_name}` ({columns})'\n",
    "    #cursor.execute(create_table_query)\n",
    "\n",
    "    # Insert DataFrame data into the MySQL table\n",
    "    #for _, row in df.iterrows():\n",
    "        # Convert row to tuple and handle NaN/None explicitly\n",
    "    #    values = tuple(None if pd.isna(x) else x for x in row)\n",
    "   #     sql = f\"INSERT INTO `{table_name}` ({', '.join(['`' + col + '`' for col in df.columns])}) VALUES ({', '.join(['%s'] * len(row))})\"\n",
    "  #      cursor.execute(sql, values)\n",
    "\n",
    "    # Commit the transaction for the current CSV file\n",
    " #   conn.commit()\n",
    "\n",
    "# Close the connection\n",
    "#conn.close()\n",
    "\n",
    "\n",
    " \n",
    "\n"
   ]
  },
  {
   "cell_type": "code",
   "execution_count": 9,
   "id": "4b573c63-d137-4094-b545-0c2f79890509",
   "metadata": {},
   "outputs": [],
   "source": [
    "db = mysql.connector.connect(\n",
    "     host='localhost',\n",
    "    user='root',\n",
    "   password='Mysql@4444',\n",
    "   database='sql_python_ecommerce_project'\n",
    ")\n",
    "\n",
    "cur = db.cursor()"
   ]
  },
  {
   "cell_type": "markdown",
   "id": "3a873c0c-a467-4bfd-8d58-c607faaf68f7",
   "metadata": {},
   "source": [
    "# 1. List all unique cities where customers are located. "
   ]
  },
  {
   "cell_type": "code",
   "execution_count": 10,
   "id": "e91314a2-fdd5-4bfb-be44-2bf9dde5d53d",
   "metadata": {},
   "outputs": [
    {
     "data": {
      "text/html": [
       "<div>\n",
       "<style scoped>\n",
       "    .dataframe tbody tr th:only-of-type {\n",
       "        vertical-align: middle;\n",
       "    }\n",
       "\n",
       "    .dataframe tbody tr th {\n",
       "        vertical-align: top;\n",
       "    }\n",
       "\n",
       "    .dataframe thead th {\n",
       "        text-align: right;\n",
       "    }\n",
       "</style>\n",
       "<table border=\"1\" class=\"dataframe\">\n",
       "  <thead>\n",
       "    <tr style=\"text-align: right;\">\n",
       "      <th></th>\n",
       "      <th>Customer_city</th>\n",
       "    </tr>\n",
       "  </thead>\n",
       "  <tbody>\n",
       "    <tr>\n",
       "      <th>0</th>\n",
       "      <td>FRANCA</td>\n",
       "    </tr>\n",
       "    <tr>\n",
       "      <th>1</th>\n",
       "      <td>SAO BERNARDO DO CAMPO</td>\n",
       "    </tr>\n",
       "    <tr>\n",
       "      <th>2</th>\n",
       "      <td>SAO PAULO</td>\n",
       "    </tr>\n",
       "    <tr>\n",
       "      <th>3</th>\n",
       "      <td>MOGI DAS CRUZES</td>\n",
       "    </tr>\n",
       "    <tr>\n",
       "      <th>4</th>\n",
       "      <td>CAMPINAS</td>\n",
       "    </tr>\n",
       "    <tr>\n",
       "      <th>...</th>\n",
       "      <td>...</td>\n",
       "    </tr>\n",
       "    <tr>\n",
       "      <th>4114</th>\n",
       "      <td>SIRIJI</td>\n",
       "    </tr>\n",
       "    <tr>\n",
       "      <th>4115</th>\n",
       "      <td>NATIVIDADE DA SERRA</td>\n",
       "    </tr>\n",
       "    <tr>\n",
       "      <th>4116</th>\n",
       "      <td>MONTE BONITO</td>\n",
       "    </tr>\n",
       "    <tr>\n",
       "      <th>4117</th>\n",
       "      <td>SAO RAFAEL</td>\n",
       "    </tr>\n",
       "    <tr>\n",
       "      <th>4118</th>\n",
       "      <td>EUGENIO DE CASTRO</td>\n",
       "    </tr>\n",
       "  </tbody>\n",
       "</table>\n",
       "<p>4119 rows × 1 columns</p>\n",
       "</div>"
      ],
      "text/plain": [
       "              Customer_city\n",
       "0                    FRANCA\n",
       "1     SAO BERNARDO DO CAMPO\n",
       "2                 SAO PAULO\n",
       "3           MOGI DAS CRUZES\n",
       "4                  CAMPINAS\n",
       "...                     ...\n",
       "4114                 SIRIJI\n",
       "4115    NATIVIDADE DA SERRA\n",
       "4116           MONTE BONITO\n",
       "4117             SAO RAFAEL\n",
       "4118      EUGENIO DE CASTRO\n",
       "\n",
       "[4119 rows x 1 columns]"
      ]
     },
     "execution_count": 10,
     "metadata": {},
     "output_type": "execute_result"
    }
   ],
   "source": [
    "query = \"\"\" select distinct upper(customer_city) from customers \"\"\"\n",
    "\n",
    "cur.execute(query)\n",
    "\n",
    "data = cur.fetchall()\n",
    "\n",
    "df = pd.DataFrame(data, columns= [\"Customer_city\"])\n",
    "df"
   ]
  },
  {
   "cell_type": "code",
   "execution_count": 11,
   "id": "70213574-2717-4014-866e-bb21168d29d6",
   "metadata": {},
   "outputs": [],
   "source": [
    "#Data cleaning done on orders.csv 'only date was retreive in dated columns'\n",
    "\n",
    "#import pandas as pd\n",
    "#from datetime import datetime\n",
    "#import re\n",
    "\n",
    "# Step 1: Read the CSV file\n",
    "#df = pd.read_csv('dataset_for_orders.csv')\n",
    "\n",
    "# Step 2: Define the date columns to clean (excluding A & B)\n",
    "#date_columns = [\n",
    "#    'order_purchase_timestamp',\n",
    " #   'order_approved_at',\n",
    "  #  'order_delivered_carrier_date',\n",
    "   # 'order_delivered_customer_date',\n",
    "    #'order_estimated_delivery_date'\n",
    "#]\n",
    "\n",
    "# Step 3: Function to extract only the date part from various formats\n",
    "#def clean_date(date_str):\n",
    "  #  if pd.isna(date_str):\n",
    " #       return ''\n",
    "    \n",
    "    # Extract only the date part using regex (handles formats like '10-02-17 10:56', '8/13/2018 0:00')\n",
    "#    match = re.search(r'(\\d{1,2}[-/]\\d{1,2}[-/]\\d{2,4})', str(date_str))\n",
    " #   if match:\n",
    "  #      try:\n",
    "            # Try to parse and reformat to YYYY-MM-DD\n",
    "   #         return pd.to_datetime(match.group(1), dayfirst=True).strftime('%Y-%m-%d')\n",
    "    #    except:\n",
    "     #       return match.group(1)  # fallback to raw match if parsing fails\n",
    "    #return ''\n",
    "\n",
    "# Step 4: Apply cleaning to each date column\n",
    "#for col in date_columns:\n",
    " #   df[col] = df[col].apply(clean_date)\n",
    "\n",
    "# Step 5: Save cleaned data to new CSV\n",
    "#df.to_csv('cleaned_output.csv', index=False)\n",
    "\n",
    "#print(\"Data cleaned and saved to 'cleaned_output.csv'.\")\n"
   ]
  },
  {
   "cell_type": "code",
   "execution_count": 12,
   "id": "f6c6b0d5-91ad-4089-aaff-47280f7f7d22",
   "metadata": {},
   "outputs": [],
   "source": [
    "import pandas as pd\n",
    "import mysql.connector\n",
    "\n",
    "\n",
    "\n",
    "db = mysql.connector.connect(\n",
    "     host='localhost',\n",
    "    user='root',\n",
    "   password='Mysql@4444',\n",
    "   database='sql_python_ecommerce_project'  # or your schema name\n",
    ")\n",
    "\n",
    "cur = db.cursor()"
   ]
  },
  {
   "cell_type": "markdown",
   "id": "5b93a8fa-4e6d-4904-9f11-b37e509eb644",
   "metadata": {},
   "source": [
    "# 2. Count the number of orders placed in 2017. "
   ]
  },
  {
   "cell_type": "code",
   "execution_count": 13,
   "id": "c1d9ffe7-8081-4701-ae9f-e9214f2845c8",
   "metadata": {},
   "outputs": [
    {
     "data": {
      "text/plain": [
       "('Total orders placed in 2017 are', 45101)"
      ]
     },
     "execution_count": 13,
     "metadata": {},
     "output_type": "execute_result"
    }
   ],
   "source": [
    "query = \"\"\" select count(order_id) from orders where year(order_purchase_timestamp)=2017  \"\"\"\n",
    "\n",
    "cur.execute(query)\n",
    "\n",
    "data = cur.fetchall()\n",
    "\n",
    "\"Total orders placed in 2017 are\", data[0][0]"
   ]
  },
  {
   "cell_type": "markdown",
   "id": "c146b44a-da98-4996-8303-11aaf90238b3",
   "metadata": {},
   "source": [
    "# 3. Find the total sales per category. "
   ]
  },
  {
   "cell_type": "code",
   "execution_count": 14,
   "id": "ca371d6e-e9a9-4a56-8a7a-62d650927ce0",
   "metadata": {},
   "outputs": [
    {
     "data": {
      "text/html": [
       "<div>\n",
       "<style scoped>\n",
       "    .dataframe tbody tr th:only-of-type {\n",
       "        vertical-align: middle;\n",
       "    }\n",
       "\n",
       "    .dataframe tbody tr th {\n",
       "        vertical-align: top;\n",
       "    }\n",
       "\n",
       "    .dataframe thead th {\n",
       "        text-align: right;\n",
       "    }\n",
       "</style>\n",
       "<table border=\"1\" class=\"dataframe\">\n",
       "  <thead>\n",
       "    <tr style=\"text-align: right;\">\n",
       "      <th></th>\n",
       "      <th>Category</th>\n",
       "      <th>Sales</th>\n",
       "    </tr>\n",
       "  </thead>\n",
       "  <tbody>\n",
       "    <tr>\n",
       "      <th>0</th>\n",
       "      <td>PERFUMARIA</td>\n",
       "      <td>506738.66</td>\n",
       "    </tr>\n",
       "    <tr>\n",
       "      <th>1</th>\n",
       "      <td>MOVEIS_DECORACAO</td>\n",
       "      <td>1430176.39</td>\n",
       "    </tr>\n",
       "    <tr>\n",
       "      <th>2</th>\n",
       "      <td>TELEFONIA</td>\n",
       "      <td>486882.05</td>\n",
       "    </tr>\n",
       "    <tr>\n",
       "      <th>3</th>\n",
       "      <td>FASHION_BOLSAS_E_ACESSORIOS</td>\n",
       "      <td>218158.28</td>\n",
       "    </tr>\n",
       "    <tr>\n",
       "      <th>4</th>\n",
       "      <td>CAMA_MESA_BANHO</td>\n",
       "      <td>1712553.67</td>\n",
       "    </tr>\n",
       "    <tr>\n",
       "      <th>...</th>\n",
       "      <td>...</td>\n",
       "      <td>...</td>\n",
       "    </tr>\n",
       "    <tr>\n",
       "      <th>69</th>\n",
       "      <td>CDS_DVDS_MUSICAIS</td>\n",
       "      <td>1199.43</td>\n",
       "    </tr>\n",
       "    <tr>\n",
       "      <th>70</th>\n",
       "      <td>LA_CUISINE</td>\n",
       "      <td>2913.53</td>\n",
       "    </tr>\n",
       "    <tr>\n",
       "      <th>71</th>\n",
       "      <td>FASHION_ROUPA_INFANTO_JUVENIL</td>\n",
       "      <td>785.67</td>\n",
       "    </tr>\n",
       "    <tr>\n",
       "      <th>72</th>\n",
       "      <td>PC_GAMER</td>\n",
       "      <td>2174.43</td>\n",
       "    </tr>\n",
       "    <tr>\n",
       "      <th>73</th>\n",
       "      <td>SEGUROS_E_SERVICOS</td>\n",
       "      <td>324.51</td>\n",
       "    </tr>\n",
       "  </tbody>\n",
       "</table>\n",
       "<p>74 rows × 2 columns</p>\n",
       "</div>"
      ],
      "text/plain": [
       "                         Category       Sales\n",
       "0                      PERFUMARIA   506738.66\n",
       "1                MOVEIS_DECORACAO  1430176.39\n",
       "2                       TELEFONIA   486882.05\n",
       "3     FASHION_BOLSAS_E_ACESSORIOS   218158.28\n",
       "4                 CAMA_MESA_BANHO  1712553.67\n",
       "..                            ...         ...\n",
       "69              CDS_DVDS_MUSICAIS     1199.43\n",
       "70                     LA_CUISINE     2913.53\n",
       "71  FASHION_ROUPA_INFANTO_JUVENIL      785.67\n",
       "72                       PC_GAMER     2174.43\n",
       "73             SEGUROS_E_SERVICOS      324.51\n",
       "\n",
       "[74 rows x 2 columns]"
      ]
     },
     "execution_count": 14,
     "metadata": {},
     "output_type": "execute_result"
    }
   ],
   "source": [
    "query = \"\"\" select upper(products.product_category_name) Category, \n",
    "round(sum(order_payments.payment_value),2) Sales\n",
    "from products join order_items\n",
    "on products.product_id = order_items.product_id\n",
    "join order_payments \n",
    "on order_payments.order_id = order_items.order_id\n",
    "group by category \"\"\"\n",
    "\n",
    "cur.execute(query)\n",
    "\n",
    "data = cur.fetchall()\n",
    "\n",
    "#data\n",
    "df = pd.DataFrame(data, columns=[\"Category\", \"Sales\"])\n",
    "df"
   ]
  },
  {
   "cell_type": "markdown",
   "id": "92db8a93-c3fd-4dd6-a0dd-8049d4c5dcb8",
   "metadata": {},
   "source": [
    "# 4. Calculate the percentage of orders that were paid in installments. "
   ]
  },
  {
   "cell_type": "code",
   "execution_count": 15,
   "id": "403b6130-8bf5-40e3-b85f-ef83f5fb0ea3",
   "metadata": {},
   "outputs": [
    {
     "data": {
      "text/plain": [
       "('the percentage of orders that were paid in installments is ',\n",
       " Decimal('99.9981'))"
      ]
     },
     "execution_count": 15,
     "metadata": {},
     "output_type": "execute_result"
    }
   ],
   "source": [
    "query = \"\"\" select (sum(case when payment_installments >= 1 then 1 \n",
    "else 0 end)) / count(*) * 100 from order_payments \"\"\"\n",
    "\n",
    "cur.execute(query)\n",
    "\n",
    "data = cur.fetchall()\n",
    "\n",
    "\"the percentage of orders that were paid in installments is \" ,data[0][0]"
   ]
  },
  {
   "cell_type": "markdown",
   "id": "70472107-4420-4c13-8d6a-3f21b45f06de",
   "metadata": {},
   "source": [
    "# 5. Count the number of customers from each state. "
   ]
  },
  {
   "cell_type": "code",
   "execution_count": 16,
   "id": "5deb23c7-3971-478d-878c-554c59d96422",
   "metadata": {},
   "outputs": [
    {
     "data": {
      "image/png": "[encoded data removed]",
      "text/plain": [
       "<Figure size 800x300 with 1 Axes>"
      ]
     },
     "metadata": {},
     "output_type": "display_data"
    }
   ],
   "source": [
    "import matplotlib.pyplot as plt\n",
    "import seaborn as sns\n",
    "query = \"\"\" SELECT customer_state, count(customer_id) Counts_of_customer FROM sql_python_ecommerce_project.customers\n",
    "group by customer_state \"\"\"\n",
    "\n",
    "cur.execute(query)\n",
    "\n",
    "data = cur.fetchall()\n",
    "\n",
    "df=pd.DataFrame(data, columns=[\"States\", \"Customer_Count\"])\n",
    "df = df.sort_values(by = \"Customer_Count\", ascending = False)\n",
    "\n",
    "plt.figure(figsize = (8,3))\n",
    "plt.bar(df[\"States\"], df[\"Customer_Count\"])\n",
    "plt.xticks(rotation = 45)\n",
    "plt.xlabel(\"States\")\n",
    "plt.ylabel(\"Customer_Count\")\n",
    "plt.title(\"Count of Customers by States\")\n",
    "\n",
    "plt.show()"
   ]
  },
  {
   "cell_type": "markdown",
   "id": "21da3d3d-4171-4005-affc-60b30047b7bf",
   "metadata": {},
   "source": [
    "# 1. Calculate the number of orders per month in 2018. "
   ]
  },
  {
   "cell_type": "code",
   "execution_count": 17,
   "id": "e3c0c125-7c60-454b-89ee-6d1ccc2630f0",
   "metadata": {},
   "outputs": [
    {
     "data": {
      "image/png": "[encoded data removed]",
      "text/plain": [
       "<Figure size 640x480 with 1 Axes>"
      ]
     },
     "metadata": {},
     "output_type": "display_data"
    }
   ],
   "source": [
    "import seaborn as sns\n",
    "import matplotlib.pyplot as plt\n",
    "query = \"\"\" select monthname(order_purchase_timestamp) Months,count(order_id) from sql_python_ecommerce_project.orders where year(order_purchase_timestamp) = 2018 and order_status = 'delivered' group by Months \n",
    "order by Months \"\"\"\n",
    "\n",
    "cur.execute(query)\n",
    "\n",
    "data = cur.fetchall()\n",
    "df = pd.DataFrame(data, columns=[\"Months\", \"Orders_per_month\"])\n",
    "o = [\"January\",  \"February\",  \"March\",  \"April\",  \"May\",  \"June\",  \"July\",  \"August\",  \"September\",  \"October\",  \"November\",  \"December\"]\n",
    "\n",
    "ax = sns.barplot(x = df[\"Months\"],y = df[\"Orders_per_month\"], data = df, order = o, color = 'pink')\n",
    "plt.xticks(rotation = 45)\n",
    "ax.bar_label(ax.containers[0])\n",
    "plt.title(\"Count of Orders by month in 2018\")\n",
    "plt.show()"
   ]
  },
  {
   "cell_type": "markdown",
   "id": "3c10b4e9-ebc9-4c07-ae1e-7299503cc7ec",
   "metadata": {},
   "source": [
    "# 2. Find the average number of products per order, grouped by customer city. "
   ]
  },
  {
   "cell_type": "code",
   "execution_count": 18,
   "id": "e39220bd-2c8f-4f69-9e9a-f50a2997c1f7",
   "metadata": {
    "scrolled": true
   },
   "outputs": [
    {
     "data": {
      "text/html": [
       "<div>\n",
       "<style scoped>\n",
       "    .dataframe tbody tr th:only-of-type {\n",
       "        vertical-align: middle;\n",
       "    }\n",
       "\n",
       "    .dataframe tbody tr th {\n",
       "        vertical-align: top;\n",
       "    }\n",
       "\n",
       "    .dataframe thead th {\n",
       "        text-align: right;\n",
       "    }\n",
       "</style>\n",
       "<table border=\"1\" class=\"dataframe\">\n",
       "  <thead>\n",
       "    <tr style=\"text-align: right;\">\n",
       "      <th></th>\n",
       "      <th>Customer_City</th>\n",
       "      <th>Average number of products per orders</th>\n",
       "    </tr>\n",
       "  </thead>\n",
       "  <tbody>\n",
       "    <tr>\n",
       "      <th>0</th>\n",
       "      <td>PADRE CARVALHO</td>\n",
       "      <td>7.00</td>\n",
       "    </tr>\n",
       "    <tr>\n",
       "      <th>1</th>\n",
       "      <td>CELSO RAMOS</td>\n",
       "      <td>6.50</td>\n",
       "    </tr>\n",
       "    <tr>\n",
       "      <th>2</th>\n",
       "      <td>CANDIDO GODOI</td>\n",
       "      <td>6.00</td>\n",
       "    </tr>\n",
       "    <tr>\n",
       "      <th>3</th>\n",
       "      <td>DATAS</td>\n",
       "      <td>6.00</td>\n",
       "    </tr>\n",
       "    <tr>\n",
       "      <th>4</th>\n",
       "      <td>MATIAS OLIMPIO</td>\n",
       "      <td>5.00</td>\n",
       "    </tr>\n",
       "    <tr>\n",
       "      <th>5</th>\n",
       "      <td>MORRO DE SAO PAULO</td>\n",
       "      <td>4.00</td>\n",
       "    </tr>\n",
       "    <tr>\n",
       "      <th>6</th>\n",
       "      <td>CIDELANDIA</td>\n",
       "      <td>4.00</td>\n",
       "    </tr>\n",
       "    <tr>\n",
       "      <th>7</th>\n",
       "      <td>PICARRA</td>\n",
       "      <td>4.00</td>\n",
       "    </tr>\n",
       "    <tr>\n",
       "      <th>8</th>\n",
       "      <td>TEIXEIRA SOARES</td>\n",
       "      <td>4.00</td>\n",
       "    </tr>\n",
       "    <tr>\n",
       "      <th>9</th>\n",
       "      <td>CURRALINHO</td>\n",
       "      <td>4.00</td>\n",
       "    </tr>\n",
       "  </tbody>\n",
       "</table>\n",
       "</div>"
      ],
      "text/plain": [
       "        Customer_City Average number of products per orders\n",
       "0      PADRE CARVALHO                                  7.00\n",
       "1         CELSO RAMOS                                  6.50\n",
       "2       CANDIDO GODOI                                  6.00\n",
       "3               DATAS                                  6.00\n",
       "4      MATIAS OLIMPIO                                  5.00\n",
       "5  MORRO DE SAO PAULO                                  4.00\n",
       "6          CIDELANDIA                                  4.00\n",
       "7             PICARRA                                  4.00\n",
       "8     TEIXEIRA SOARES                                  4.00\n",
       "9          CURRALINHO                                  4.00"
      ]
     },
     "execution_count": 18,
     "metadata": {},
     "output_type": "execute_result"
    }
   ],
   "source": [
    "query = \"\"\" \n",
    "with count_per_order as \n",
    "(SELECT orders.order_id, orders.customer_id, count(order_items.order_id) oc \n",
    "FROM orders join order_items\n",
    "on orders.order_id = order_items.order_id\n",
    "group by orders.order_id, orders.customer_id\n",
    ")\n",
    "select upper(customers.customer_city), round(avg(count_per_order.oc),2) average_orders\n",
    "from customers join count_per_order\n",
    "on customers.customer_id = count_per_order.customer_id\n",
    "group by customers.customer_city\n",
    "order by average_orders desc \"\"\"\n",
    "\n",
    "cur.execute(query)\n",
    "\n",
    "data = cur.fetchall()\n",
    "\n",
    "df = pd.DataFrame(data, columns = [\"Customer_City\", \"Average number of products per orders\"])\n",
    "df.head(10)                  "
   ]
  },
  {
   "cell_type": "markdown",
   "id": "c0a36090-0b84-4c14-9036-71ef7dc04962",
   "metadata": {},
   "source": [
    "# 3. Calculate the percentage of total revenue contributed by each product category. "
   ]
  },
  {
   "cell_type": "code",
   "execution_count": 19,
   "id": "7f84c690-f717-41e6-862c-05bb21ac7272",
   "metadata": {},
   "outputs": [
    {
     "data": {
      "text/html": [
       "<div>\n",
       "<style scoped>\n",
       "    .dataframe tbody tr th:only-of-type {\n",
       "        vertical-align: middle;\n",
       "    }\n",
       "\n",
       "    .dataframe tbody tr th {\n",
       "        vertical-align: top;\n",
       "    }\n",
       "\n",
       "    .dataframe thead th {\n",
       "        text-align: right;\n",
       "    }\n",
       "</style>\n",
       "<table border=\"1\" class=\"dataframe\">\n",
       "  <thead>\n",
       "    <tr style=\"text-align: right;\">\n",
       "      <th></th>\n",
       "      <th>Category</th>\n",
       "      <th>Sales_Percentage</th>\n",
       "    </tr>\n",
       "  </thead>\n",
       "  <tbody>\n",
       "    <tr>\n",
       "      <th>0</th>\n",
       "      <td>CAMA_MESA_BANHO</td>\n",
       "      <td>10.70</td>\n",
       "    </tr>\n",
       "    <tr>\n",
       "      <th>1</th>\n",
       "      <td>BELEZA_SAUDE</td>\n",
       "      <td>10.35</td>\n",
       "    </tr>\n",
       "    <tr>\n",
       "      <th>2</th>\n",
       "      <td>INFORMATICA_ACESSORIOS</td>\n",
       "      <td>9.90</td>\n",
       "    </tr>\n",
       "    <tr>\n",
       "      <th>3</th>\n",
       "      <td>MOVEIS_DECORACAO</td>\n",
       "      <td>8.93</td>\n",
       "    </tr>\n",
       "    <tr>\n",
       "      <th>4</th>\n",
       "      <td>RELOGIOS_PRESENTES</td>\n",
       "      <td>8.93</td>\n",
       "    </tr>\n",
       "    <tr>\n",
       "      <th>...</th>\n",
       "      <td>...</td>\n",
       "      <td>...</td>\n",
       "    </tr>\n",
       "    <tr>\n",
       "      <th>69</th>\n",
       "      <td>CASA_CONFORTO_2</td>\n",
       "      <td>0.01</td>\n",
       "    </tr>\n",
       "    <tr>\n",
       "      <th>70</th>\n",
       "      <td>CDS_DVDS_MUSICAIS</td>\n",
       "      <td>0.01</td>\n",
       "    </tr>\n",
       "    <tr>\n",
       "      <th>71</th>\n",
       "      <td>PC_GAMER</td>\n",
       "      <td>0.01</td>\n",
       "    </tr>\n",
       "    <tr>\n",
       "      <th>72</th>\n",
       "      <td>FASHION_ROUPA_INFANTO_JUVENIL</td>\n",
       "      <td>0.00</td>\n",
       "    </tr>\n",
       "    <tr>\n",
       "      <th>73</th>\n",
       "      <td>SEGUROS_E_SERVICOS</td>\n",
       "      <td>0.00</td>\n",
       "    </tr>\n",
       "  </tbody>\n",
       "</table>\n",
       "<p>74 rows × 2 columns</p>\n",
       "</div>"
      ],
      "text/plain": [
       "                         Category  Sales_Percentage\n",
       "0                 CAMA_MESA_BANHO             10.70\n",
       "1                    BELEZA_SAUDE             10.35\n",
       "2          INFORMATICA_ACESSORIOS              9.90\n",
       "3                MOVEIS_DECORACAO              8.93\n",
       "4              RELOGIOS_PRESENTES              8.93\n",
       "..                            ...               ...\n",
       "69                CASA_CONFORTO_2              0.01\n",
       "70              CDS_DVDS_MUSICAIS              0.01\n",
       "71                       PC_GAMER              0.01\n",
       "72  FASHION_ROUPA_INFANTO_JUVENIL              0.00\n",
       "73             SEGUROS_E_SERVICOS              0.00\n",
       "\n",
       "[74 rows x 2 columns]"
      ]
     },
     "execution_count": 19,
     "metadata": {},
     "output_type": "execute_result"
    }
   ],
   "source": [
    "query = \"\"\" select upper(products.product_category_name) Category, \n",
    "round((sum(order_payments.payment_value)/(select sum(payment_value) from order_payments) )*100,2)  Sales_percent \n",
    "from products join order_items\n",
    "on products.product_id = order_items.product_id\n",
    "join order_payments \n",
    "on order_payments.order_id = order_items.order_id\n",
    "group by category\n",
    "order by Sales_percent desc \"\"\"\n",
    "\n",
    "cur.execute(query)\n",
    "\n",
    "data = cur.fetchall()\n",
    "df = pd.DataFrame(data, columns=[\"Category\", \"Sales_Percentage\"])\n",
    "df"
   ]
  },
  {
   "cell_type": "markdown",
   "id": "c2149510-b5ef-4664-808b-23db782f6360",
   "metadata": {},
   "source": [
    "# 4. Identify the correlation between product price and the number of times a product has been purchased. "
   ]
  },
  {
   "cell_type": "code",
   "execution_count": 20,
   "id": "5943b200-5785-42a9-abdc-322a8c5c3619",
   "metadata": {},
   "outputs": [
    {
     "name": "stdout",
     "output_type": "stream",
     "text": [
      "The correlation between product price and the number of times a product has been purchased is -0.10631514167157562\n"
     ]
    }
   ],
   "source": [
    "query = \"\"\" select upper(products.product_category_name) Category, \n",
    "count(order_items.product_id) Order_Count,\n",
    "round(avg(order_items.price),2) Price\n",
    "from products join order_items\n",
    "on products.product_id = order_items.product_id\n",
    "group by products.product_category_name \"\"\"\n",
    "\n",
    "cur.execute(query)\n",
    "\n",
    "data = cur.fetchall()\n",
    "\n",
    "#data\n",
    "df = pd.DataFrame(data, columns=[\"Category\", \"Order_Count\", \"Price\"])\n",
    "\n",
    "arr1 = df[\"Order_Count\"]\n",
    "arr2 = df[\"Price\"]\n",
    "\n",
    "a = np.corrcoef([arr1, arr2])\n",
    "print('The correlation between product price and the number of times a product has been purchased is', a [0][-1])"
   ]
  },
  {
   "cell_type": "markdown",
   "id": "fe572e52-de9e-4fa0-a1de-7b6d9959accf",
   "metadata": {},
   "source": [
    "# 5. Calculate the total revenue generated by each seller, and rank them by revenue. "
   ]
  },
  {
   "cell_type": "code",
   "execution_count": 21,
   "id": "b8896ff0-6ee2-4673-9f54-21d197e901d4",
   "metadata": {},
   "outputs": [
    {
     "data": {
      "image/png": "[encoded data removed]",
      "text/plain": [
       "<Figure size 640x480 with 1 Axes>"
      ]
     },
     "metadata": {},
     "output_type": "display_data"
    }
   ],
   "source": [
    "query = \"\"\" select *, dense_rank() over(order by revenue desc) as rn from\n",
    "(\n",
    "select order_items.Seller_id, round(sum(order_payments.payment_value),2) Revenue\n",
    "from order_items join order_payments\n",
    "on order_items.order_id = order_payments.order_id\n",
    "group by order_items.seller_id \n",
    ") as a \"\"\"\n",
    "\n",
    "cur.execute(query)\n",
    "\n",
    "data = cur.fetchall()\n",
    "df = pd.DataFrame(data, columns=[\"Seller_id\", \"Revenue\", \"Rank\"])\n",
    "df=df.head()\n",
    "sns.barplot(x = \"Seller_id\", y =\"Revenue\", data = df)\n",
    "plt.xticks(rotation = 90)\n",
    "plt.title(\"Top 5 Seller by rank on Revenue\")\n",
    "plt.show()"
   ]
  },
  {
   "cell_type": "markdown",
   "id": "acc47f97-ecb5-495c-828c-372029f94949",
   "metadata": {},
   "source": [
    "# 1. Calculate the moving average of order values for each customer over their order history. "
   ]
  },
  {
   "cell_type": "code",
   "execution_count": 22,
   "id": "d3ccb2db-c825-4c43-9592-ff5a75fa2f34",
   "metadata": {},
   "outputs": [
    {
     "data": {
      "text/html": [
       "<div>\n",
       "<style scoped>\n",
       "    .dataframe tbody tr th:only-of-type {\n",
       "        vertical-align: middle;\n",
       "    }\n",
       "\n",
       "    .dataframe tbody tr th {\n",
       "        vertical-align: top;\n",
       "    }\n",
       "\n",
       "    .dataframe thead th {\n",
       "        text-align: right;\n",
       "    }\n",
       "</style>\n",
       "<table border=\"1\" class=\"dataframe\">\n",
       "  <thead>\n",
       "    <tr style=\"text-align: right;\">\n",
       "      <th></th>\n",
       "      <th>customer_id</th>\n",
       "      <th>order_purchase_timestamp</th>\n",
       "      <th>Payment</th>\n",
       "      <th>Mov_Avg</th>\n",
       "    </tr>\n",
       "  </thead>\n",
       "  <tbody>\n",
       "    <tr>\n",
       "      <th>0</th>\n",
       "      <td>00012a2ce6f8dcda20d059ce98491703</td>\n",
       "      <td>2017-11-14</td>\n",
       "      <td>114.74</td>\n",
       "      <td>114.739998</td>\n",
       "    </tr>\n",
       "    <tr>\n",
       "      <th>1</th>\n",
       "      <td>000161a058600d5901f007fab4c27140</td>\n",
       "      <td>2017-07-16</td>\n",
       "      <td>67.41</td>\n",
       "      <td>67.410004</td>\n",
       "    </tr>\n",
       "    <tr>\n",
       "      <th>2</th>\n",
       "      <td>0001fd6190edaaf884bcaf3d49edf079</td>\n",
       "      <td>2017-02-28</td>\n",
       "      <td>195.42</td>\n",
       "      <td>195.419998</td>\n",
       "    </tr>\n",
       "    <tr>\n",
       "      <th>3</th>\n",
       "      <td>0002414f95344307404f0ace7a26f1d5</td>\n",
       "      <td>2017-08-16</td>\n",
       "      <td>179.35</td>\n",
       "      <td>179.350006</td>\n",
       "    </tr>\n",
       "    <tr>\n",
       "      <th>4</th>\n",
       "      <td>000379cdec625522490c315e70c7a9fb</td>\n",
       "      <td>2018-02-04</td>\n",
       "      <td>107.01</td>\n",
       "      <td>107.010002</td>\n",
       "    </tr>\n",
       "    <tr>\n",
       "      <th>...</th>\n",
       "      <td>...</td>\n",
       "      <td>...</td>\n",
       "      <td>...</td>\n",
       "      <td>...</td>\n",
       "    </tr>\n",
       "    <tr>\n",
       "      <th>103881</th>\n",
       "      <td>fffecc9f79fd8c764f843e9951b11341</td>\n",
       "      <td>2018-03-29</td>\n",
       "      <td>0.64</td>\n",
       "      <td>27.120001</td>\n",
       "    </tr>\n",
       "    <tr>\n",
       "      <th>103882</th>\n",
       "      <td>fffeda5b6d849fbd39689bb92087f431</td>\n",
       "      <td>2018-05-22</td>\n",
       "      <td>63.13</td>\n",
       "      <td>63.130001</td>\n",
       "    </tr>\n",
       "    <tr>\n",
       "      <th>103883</th>\n",
       "      <td>ffff42319e9b2d713724ae527742af25</td>\n",
       "      <td>2018-06-13</td>\n",
       "      <td>214.13</td>\n",
       "      <td>214.130005</td>\n",
       "    </tr>\n",
       "    <tr>\n",
       "      <th>103884</th>\n",
       "      <td>ffffa3172527f765de70084a7e53aae8</td>\n",
       "      <td>2017-02-09</td>\n",
       "      <td>45.50</td>\n",
       "      <td>45.500000</td>\n",
       "    </tr>\n",
       "    <tr>\n",
       "      <th>103885</th>\n",
       "      <td>ffffe8b65bbe3087b653a978c870db99</td>\n",
       "      <td>2017-09-29</td>\n",
       "      <td>18.37</td>\n",
       "      <td>18.370001</td>\n",
       "    </tr>\n",
       "  </tbody>\n",
       "</table>\n",
       "<p>103886 rows × 4 columns</p>\n",
       "</div>"
      ],
      "text/plain": [
       "                             customer_id order_purchase_timestamp  Payment  \\\n",
       "0       00012a2ce6f8dcda20d059ce98491703               2017-11-14   114.74   \n",
       "1       000161a058600d5901f007fab4c27140               2017-07-16    67.41   \n",
       "2       0001fd6190edaaf884bcaf3d49edf079               2017-02-28   195.42   \n",
       "3       0002414f95344307404f0ace7a26f1d5               2017-08-16   179.35   \n",
       "4       000379cdec625522490c315e70c7a9fb               2018-02-04   107.01   \n",
       "...                                  ...                      ...      ...   \n",
       "103881  fffecc9f79fd8c764f843e9951b11341               2018-03-29     0.64   \n",
       "103882  fffeda5b6d849fbd39689bb92087f431               2018-05-22    63.13   \n",
       "103883  ffff42319e9b2d713724ae527742af25               2018-06-13   214.13   \n",
       "103884  ffffa3172527f765de70084a7e53aae8               2017-02-09    45.50   \n",
       "103885  ffffe8b65bbe3087b653a978c870db99               2017-09-29    18.37   \n",
       "\n",
       "           Mov_Avg  \n",
       "0       114.739998  \n",
       "1        67.410004  \n",
       "2       195.419998  \n",
       "3       179.350006  \n",
       "4       107.010002  \n",
       "...            ...  \n",
       "103881   27.120001  \n",
       "103882   63.130001  \n",
       "103883  214.130005  \n",
       "103884   45.500000  \n",
       "103885   18.370001  \n",
       "\n",
       "[103886 rows x 4 columns]"
      ]
     },
     "execution_count": 22,
     "metadata": {},
     "output_type": "execute_result"
    }
   ],
   "source": [
    "query = \"\"\" select customer_id, order_purchase_timestamp, Payment,\n",
    "avg(payment) over (partition by customer_id order by order_purchase_timestamp\n",
    "rows between 2 preceding and current row) mov_avg\n",
    "from \n",
    "(SELECT orders.customer_id, orders.order_purchase_timestamp, \n",
    "order_payments.payment_value as Payment\n",
    "from order_payments join orders\n",
    "on order_payments.order_id = orders.order_id) a \n",
    "\"\"\"\n",
    "\n",
    "cur.execute(query)\n",
    "\n",
    "data = cur.fetchall()\n",
    "df = pd.DataFrame(data, columns=[\"customer_id\", \"order_purchase_timestamp\", \"Payment\", \"Mov_Avg\"])\n",
    "df"
   ]
  },
  {
   "cell_type": "markdown",
   "id": "c2d49ab6-c1ac-4757-aa7e-e2fad5721190",
   "metadata": {},
   "source": [
    "# 2. Calculate the cumulative sales per month for each year. "
   ]
  },
  {
   "cell_type": "code",
   "execution_count": 23,
   "id": "4991a3b3-61ff-4f95-9e3d-e2fa04982d45",
   "metadata": {},
   "outputs": [
    {
     "data": {
      "text/html": [
       "<div>\n",
       "<style scoped>\n",
       "    .dataframe tbody tr th:only-of-type {\n",
       "        vertical-align: middle;\n",
       "    }\n",
       "\n",
       "    .dataframe tbody tr th {\n",
       "        vertical-align: top;\n",
       "    }\n",
       "\n",
       "    .dataframe thead th {\n",
       "        text-align: right;\n",
       "    }\n",
       "</style>\n",
       "<table border=\"1\" class=\"dataframe\">\n",
       "  <thead>\n",
       "    <tr style=\"text-align: right;\">\n",
       "      <th></th>\n",
       "      <th>Years</th>\n",
       "      <th>Months</th>\n",
       "      <th>Payments</th>\n",
       "      <th>Cumulative_sales</th>\n",
       "    </tr>\n",
       "  </thead>\n",
       "  <tbody>\n",
       "    <tr>\n",
       "      <th>0</th>\n",
       "      <td>2016</td>\n",
       "      <td>2</td>\n",
       "      <td>109.34</td>\n",
       "      <td>109.34</td>\n",
       "    </tr>\n",
       "    <tr>\n",
       "      <th>1</th>\n",
       "      <td>2016</td>\n",
       "      <td>3</td>\n",
       "      <td>595.14</td>\n",
       "      <td>704.48</td>\n",
       "    </tr>\n",
       "    <tr>\n",
       "      <th>2</th>\n",
       "      <td>2016</td>\n",
       "      <td>4</td>\n",
       "      <td>12050.88</td>\n",
       "      <td>12755.36</td>\n",
       "    </tr>\n",
       "    <tr>\n",
       "      <th>3</th>\n",
       "      <td>2016</td>\n",
       "      <td>5</td>\n",
       "      <td>10287.28</td>\n",
       "      <td>23042.64</td>\n",
       "    </tr>\n",
       "    <tr>\n",
       "      <th>4</th>\n",
       "      <td>2016</td>\n",
       "      <td>6</td>\n",
       "      <td>9398.61</td>\n",
       "      <td>32441.25</td>\n",
       "    </tr>\n",
       "  </tbody>\n",
       "</table>\n",
       "</div>"
      ],
      "text/plain": [
       "   Years  Months  Payments  Cumulative_sales\n",
       "0   2016       2    109.34            109.34\n",
       "1   2016       3    595.14            704.48\n",
       "2   2016       4  12050.88          12755.36\n",
       "3   2016       5  10287.28          23042.64\n",
       "4   2016       6   9398.61          32441.25"
      ]
     },
     "execution_count": 23,
     "metadata": {},
     "output_type": "execute_result"
    }
   ],
   "source": [
    "query = \"\"\" select years, months, payment, round(sum(payment)\n",
    "over(order by years, months),2) cumulative_sales from\n",
    "(select year(orders.order_purchase_timestamp) as years,\n",
    "month(orders.order_purchase_timestamp) as months,\n",
    "round(sum(order_payments.payment_value),2) as payment \n",
    "from orders join order_payments\n",
    "on orders.order_id = order_payments.order_id\n",
    "group by years, months order by years, months) as a\n",
    "\"\"\"\n",
    "cur.execute(query)\n",
    "\n",
    "data = cur.fetchall()\n",
    "df = pd.DataFrame(data, columns=[\"Years\", \"Months\", \"Payments\", \"Cumulative_sales\"])\n",
    "df.head()"
   ]
  },
  {
   "cell_type": "markdown",
   "id": "4b468cba-25ce-4d8a-81b6-6c4033588ea9",
   "metadata": {},
   "source": [
    "# 3. Calculate the year-over-year growth rate of total sales. "
   ]
  },
  {
   "cell_type": "code",
   "execution_count": 25,
   "id": "706c7aff-5460-4614-8049-53920ce58c97",
   "metadata": {},
   "outputs": [
    {
     "data": {
      "text/html": [
       "<div>\n",
       "<style scoped>\n",
       "    .dataframe tbody tr th:only-of-type {\n",
       "        vertical-align: middle;\n",
       "    }\n",
       "\n",
       "    .dataframe tbody tr th {\n",
       "        vertical-align: top;\n",
       "    }\n",
       "\n",
       "    .dataframe thead th {\n",
       "        text-align: right;\n",
       "    }\n",
       "</style>\n",
       "<table border=\"1\" class=\"dataframe\">\n",
       "  <thead>\n",
       "    <tr style=\"text-align: right;\">\n",
       "      <th></th>\n",
       "      <th>Years</th>\n",
       "      <th>YoY % Growth</th>\n",
       "    </tr>\n",
       "  </thead>\n",
       "  <tbody>\n",
       "    <tr>\n",
       "      <th>0</th>\n",
       "      <td>2016</td>\n",
       "      <td>NaN</td>\n",
       "    </tr>\n",
       "    <tr>\n",
       "      <th>1</th>\n",
       "      <td>2017</td>\n",
       "      <td>12112.703761</td>\n",
       "    </tr>\n",
       "    <tr>\n",
       "      <th>2</th>\n",
       "      <td>2018</td>\n",
       "      <td>20.000924</td>\n",
       "    </tr>\n",
       "  </tbody>\n",
       "</table>\n",
       "</div>"
      ],
      "text/plain": [
       "   Years  YoY % Growth\n",
       "0   2016           NaN\n",
       "1   2017  12112.703761\n",
       "2   2018     20.000924"
      ]
     },
     "execution_count": 25,
     "metadata": {},
     "output_type": "execute_result"
    }
   ],
   "source": [
    "query = \"\"\" use sql_python_ecommerce_project;\n",
    "\n",
    "with a as (select year(orders.order_purchase_timestamp) as years,\n",
    "round(sum(order_payments.payment_value),2) as payment from orders join order_payments\n",
    "on orders.order_id = order_payments.order_id\n",
    "group by years order by years\n",
    ")\n",
    "\n",
    "select years, ((payment - lag(payment, 1) over (order by years)) / \n",
    "lag(payment, 1) over(order by years)) * 100 from a \n",
    "\"\"\"\n",
    "cur.execute(query)\n",
    "\n",
    "data = cur.fetchall()\n",
    "df = pd.DataFrame(data, columns=[\"Years\", \"YoY % Growth\"])\n",
    "df"
   ]
  },
  {
   "cell_type": "markdown",
   "id": "669fc52d-46f5-4aec-9131-7eaebc6a6873",
   "metadata": {},
   "source": [
    "# 4. Calculate the retention rate of customers, defined as the percentage of customers who make another purchase within 6 months of their first purchase. "
   ]
  },
  {
   "cell_type": "code",
   "execution_count": 28,
   "id": "035f4188-e2ba-49de-a2ff-4f1df27ddd25",
   "metadata": {},
   "outputs": [
    {
     "data": {
      "text/plain": [
       "[(None,)]"
      ]
     },
     "execution_count": 28,
     "metadata": {},
     "output_type": "execute_result"
    }
   ],
   "source": [
    "query = \"\"\" with a as (select customers.customer_id,\n",
    "min(orders.order_purchase_timestamp) first_order\n",
    "from customers join orders\n",
    "on customers.customer_id = orders.customer_id\n",
    "group by customers.customer_id\n",
    "),\n",
    "\n",
    "b as (select a.customer_id, count(distinct orders.order_purchase_timestamp) next_order\n",
    "from a join orders\n",
    "on orders.customer_id = a.customer_id\n",
    "and orders.order_purchase_timestamp > first_order\n",
    "and orders.order_purchase_timestamp < \n",
    "date_add(first_order, interval 6 month)\n",
    "group by a.customer_id\n",
    ")\n",
    "\n",
    "select 100 * (count( distinct a.customer_id)/ count(distinct b.customer_id))\n",
    "from a left join b \n",
    "on a.customer_id = b.customer_id \"\"\"\n",
    "\n",
    "cur.execute(query)\n",
    "\n",
    "data = cur.fetchall()\n",
    "data"
   ]
  },
  {
   "cell_type": "markdown",
   "id": "e04da78b-488a-49ae-b346-6333e1a71d8a",
   "metadata": {},
   "source": [
    "# 5. Identify the top 3 customers who spent the most money in each year. "
   ]
  },
  {
   "cell_type": "code",
   "execution_count": 32,
   "id": "71825cc5-f101-4d38-b2aa-ba218d06d9df",
   "metadata": {},
   "outputs": [
    {
     "data": {
      "image/png": "[encoded data removed]",
      "text/plain": [
       "<Figure size 640x480 with 1 Axes>"
      ]
     },
     "metadata": {},
     "output_type": "display_data"
    }
   ],
   "source": [
    "query = \"\"\" select years, customer_id, payment, d_rank\n",
    "from\n",
    "(select year(orders.order_purchase_timestamp) years,\n",
    "orders.customer_id, \n",
    "sum(order_payments.payment_value) payment,\n",
    "dense_rank() over (partition by year(orders.order_purchase_timestamp)\n",
    "order by sum(order_payments.payment_value)desc) d_rank\n",
    "from orders join order_payments\n",
    "on order_payments.order_id = orders.order_id\n",
    "group by year(orders.order_purchase_timestamp), \n",
    "orders.customer_id) as a  \n",
    "where d_rank <= 3;\n",
    " \"\"\"\n",
    "cur.execute(query)\n",
    "data = cur.fetchall()\n",
    "df = pd.DataFrame(data, columns=[\"Years\", \"Customer_id\", \"Payment\", \"D_Rank\"])\n",
    "sns.barplot(x = \"Customer_id\", y = \"Payment\", data = df, hue = \"Years\")\n",
    "plt.xticks(rotation = 90)\n",
    "plt.show()"
   ]
  },
  {
   "cell_type": "code",
   "execution_count": null,
   "id": "3ba83bf2-ae02-4d6b-846a-81497dd31de4",
   "metadata": {},
   "outputs": [],
   "source": []
  }
 ],
 "metadata": {
  "kernelspec": {
   "display_name": "Python 3 (ipykernel)",
   "language": "python",
   "name": "python3"
  },
  "language_info": {
   "codemirror_mode": {
    "name": "ipython",
    "version": 3
   },
   "file_extension": ".py",
   "mimetype": "text/x-python",
   "name": "python",
   "nbconvert_exporter": "python",
   "pygments_lexer": "ipython3",
   "version": "3.13.3"
  }
 },
 "nbformat": 4,
 "nbformat_minor": 5
}
